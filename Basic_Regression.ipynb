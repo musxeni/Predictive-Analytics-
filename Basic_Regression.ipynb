{
  "nbformat": 4,
  "nbformat_minor": 0,
  "metadata": {
    "colab": {
      "name": "Basic Regression.ipynb",
      "provenance": [],
      "include_colab_link": true
    },
    "kernelspec": {
      "name": "python3",
      "display_name": "Python 3"
    },
    "language_info": {
      "name": "python"
    }
  },
  "cells": [
    {
      "cell_type": "markdown",
      "metadata": {
        "id": "view-in-github",
        "colab_type": "text"
      },
      "source": [
        "<a href=\"https://colab.research.google.com/github/musxeni/Predictive-Analytics-/blob/main/Basic_Regression.ipynb\" target=\"_parent\"><img src=\"https://colab.research.google.com/assets/colab-badge.svg\" alt=\"Open In Colab\"/></a>"
      ]
    },
    {
      "cell_type": "markdown",
      "source": [
        "# Regression Analysis\n",
        "\n",
        "Regression analysis refers to the use of statistical methods to estimate the relationships between one or more independent variables and dependent variables. \n",
        "\n",
        "Regression is a powerful tool as it is used to assess the strength of the relationship between two or more variables, and then it would be used for modeling the relationship between those variables in the future.\n",
        "\n",
        "[source](https://en.wikipedia.org/wiki/Regression_analysis)\n"
      ],
      "metadata": {
        "id": "TizNlp7ooyVG"
      }
    },
    {
      "cell_type": "markdown",
      "source": [
        "# Building a basic regression model."
      ],
      "metadata": {
        "id": "goJUTQkVpzhf"
      }
    },
    {
      "cell_type": "markdown",
      "source": [
        "# Building a basic regression model.\n",
        "\n",
        "###*We know that a Linear regression is a way to model the relationship between two variables. We will use the equation as the slope formula. The equation has the form:* \n",
        "\n",
        "<font size =  6><center>$Y = \\alpha + \\beta X$</center></font>\n",
        "\n",
        "*where `Y` is the dependent variable (that’s the variable on the vertical or `Y` axis).*\n",
        "\n",
        "*`X` is the independent variable (i.e. it is plotted on the Horizonr=tal or `X` axis).*\n",
        "\n",
        " *`b` is the slope of the line and `a` is the `y-intercept`.*"
      ],
      "metadata": {
        "id": "Z88cEUhYrQXR"
      }
    },
    {
      "cell_type": "markdown",
      "source": [
        "## Import the Libraries"
      ],
      "metadata": {
        "id": "GoBc0LPbrRdF"
      }
    },
    {
      "cell_type": "code",
      "source": [
        "import pandas as pd\n",
        "import numpy as np\n",
        "import statsmodels.formula.api as smf\n",
        "from sklearn.linear_model import LinearRegression\n",
        "from matplotlib import pyplot as plt"
      ],
      "metadata": {
        "colab": {
          "base_uri": "https://localhost:8080/"
        },
        "id": "Dlf-BWyttd1y",
        "outputId": "0380e2b7-d0fb-4b46-971f-bc8c06f641d4"
      },
      "execution_count": null,
      "outputs": [
        {
          "output_type": "stream",
          "name": "stderr",
          "text": [
            "/usr/local/lib/python3.7/dist-packages/statsmodels/tools/_testing.py:19: FutureWarning: pandas.util.testing is deprecated. Use the functions in the public API at pandas.testing instead.\n",
            "  import pandas.util.testing as tm\n"
          ]
        }
      ]
    },
    {
      "cell_type": "markdown",
      "source": [
        "## To construct our analysis, first, let's generate some 'random' data"
      ],
      "metadata": {
        "id": "Ck51WkTctdx5"
      }
    },
    {
      "cell_type": "code",
      "source": [
        "np.random.seed(10)\n",
        "X = 2.5 * np.random.randn(1000) + 1.5   # Array of 100 values with mean = 1.5, stddev = 2.5\n",
        "res = 0.5 * np.random.randn(1000)       # Generate 100 residual terms\n",
        "y = 2 + 0.3 * X + res                  # Actual values of Y"
      ],
      "metadata": {
        "id": "ouTXUKxKtdt2"
      },
      "execution_count": null,
      "outputs": []
    },
    {
      "cell_type": "code",
      "source": [
        ""
      ],
      "metadata": {
        "id": "i1BOoc1qtdpT"
      },
      "execution_count": null,
      "outputs": []
    },
    {
      "cell_type": "code",
      "source": [
        ""
      ],
      "metadata": {
        "id": "axgd-Ib5tdjb"
      },
      "execution_count": null,
      "outputs": []
    },
    {
      "cell_type": "code",
      "source": [
        ""
      ],
      "metadata": {
        "id": "i7Vi0zELtddV"
      },
      "execution_count": null,
      "outputs": []
    },
    {
      "cell_type": "code",
      "source": [
        ""
      ],
      "metadata": {
        "id": "boGmhqqVtdZL"
      },
      "execution_count": null,
      "outputs": []
    },
    {
      "cell_type": "code",
      "source": [
        ""
      ],
      "metadata": {
        "id": "4lZMIl_xtdVQ"
      },
      "execution_count": null,
      "outputs": []
    },
    {
      "cell_type": "code",
      "source": [
        ""
      ],
      "metadata": {
        "id": "OV3lcWI9tdPl"
      },
      "execution_count": null,
      "outputs": []
    }
  ]
}